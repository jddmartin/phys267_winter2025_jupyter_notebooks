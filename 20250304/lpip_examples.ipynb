{
 "cells": [
  {
   "cell_type": "code",
   "execution_count": 1,
   "id": "62ed2438-eedd-4517-8bef-a76b616573cb",
   "metadata": {},
   "outputs": [],
   "source": [
    "# Some examples from Lawrence Probability in Physics (LPIP)\n",
    "# https://doi.org/10.1007/978-3-030-04544-9\n",
    "import numpy as np\n",
    "import math\n",
    "import scipy.stats as ss\n",
    "import scipy.integrate as si\n",
    "import scipy.optimize as so"
   ]
  },
  {
   "cell_type": "code",
   "execution_count": 2,
   "id": "4bb6cee1-7fb9-491e-89c3-68866b34ac2e",
   "metadata": {},
   "outputs": [
    {
     "data": {
      "text/plain": [
       "0.01171875"
      ]
     },
     "execution_count": 2,
     "metadata": {},
     "output_type": "execute_result"
    }
   ],
   "source": [
    "# Exercise 4.3 of LPIP\n",
    "(0.25)**3 * 0.75"
   ]
  },
  {
   "cell_type": "code",
   "execution_count": 3,
   "id": "480c9f16-cac3-413d-ac4d-d1ac3f4a828e",
   "metadata": {},
   "outputs": [
    {
     "name": "stdout",
     "output_type": "stream",
     "text": [
      "p=0.8487961172233521\n"
     ]
    }
   ],
   "source": [
    "# Exercise 4.5 of LPIP\n",
    "mu = 6\n",
    "def f(i): return 1/math.factorial(i) * mu**i * np.exp(-mu)\n",
    "p = 1-sum([f(i) for i in range(4)])\n",
    "print(f\"{p=}\")"
   ]
  },
  {
   "cell_type": "code",
   "execution_count": 4,
   "id": "886edbb3-53f1-4603-ab91-50794c8f4cae",
   "metadata": {},
   "outputs": [
    {
     "data": {
      "text/plain": [
       "0.2680183046153847"
      ]
     },
     "execution_count": 4,
     "metadata": {},
     "output_type": "execute_result"
    }
   ],
   "source": [
    "# Exercise 4.7 of LPIP\n",
    "mu = 0.033 * 57 * 0.7\n",
    "np.exp(-mu)"
   ]
  },
  {
   "cell_type": "code",
   "execution_count": 5,
   "id": "df56b99a-6dcd-4714-9304-6b15c289504c",
   "metadata": {},
   "outputs": [
    {
     "name": "stdout",
     "output_type": "stream",
     "text": [
      "mu=384.1458820694112\n"
     ]
    }
   ],
   "source": [
    "# Exercise 5.8 of LPIP\n",
    "p = 0.95\n",
    "def f(z): return (ss.norm.cdf(z)-ss.norm.cdf(-z))-p\n",
    "z = so.brentq(f, 0, 2)\n",
    "mu = (z / 0.1)**2\n",
    "print(f\"{mu=}\")"
   ]
  },
  {
   "cell_type": "code",
   "execution_count": null,
   "id": "4e7ff193-0791-46eb-94bf-64a382d6ae05",
   "metadata": {},
   "outputs": [],
   "source": []
  }
 ],
 "metadata": {
  "kernelspec": {
   "display_name": "Python 3",
   "language": "python",
   "name": "python3"
  },
  "language_info": {
   "codemirror_mode": {
    "name": "ipython",
    "version": 3
   },
   "file_extension": ".py",
   "mimetype": "text/x-python",
   "name": "python",
   "nbconvert_exporter": "python",
   "pygments_lexer": "ipython3",
   "version": "3.10.4"
  }
 },
 "nbformat": 4,
 "nbformat_minor": 5
}
