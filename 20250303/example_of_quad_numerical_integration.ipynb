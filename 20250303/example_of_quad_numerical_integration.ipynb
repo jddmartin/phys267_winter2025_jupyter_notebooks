{
 "cells": [
  {
   "cell_type": "code",
   "execution_count": null,
   "id": "2eed343d-b9f1-43a8-b949-d8636a904d09",
   "metadata": {},
   "outputs": [],
   "source": [
    "# show example of numerical integration using scipy.integrate.quad"
   ]
  },
  {
   "cell_type": "code",
   "execution_count": 7,
   "id": "490cf801-03d7-4824-8436-ce252ee6381f",
   "metadata": {},
   "outputs": [],
   "source": [
    "import scipy.integrate as si\n",
    "import numpy as np"
   ]
  },
  {
   "cell_type": "code",
   "execution_count": 10,
   "id": "6c94ce12-2bb5-435f-86c8-f8092c749963",
   "metadata": {},
   "outputs": [],
   "source": [
    "# just pick Gaussian with sigma=1 and mu=0 as example:\n",
    "def f(x): return 1.0/np.sqrt(2*np.pi) * np.exp(-0.5 * x**2)"
   ]
  },
  {
   "cell_type": "code",
   "execution_count": 11,
   "id": "acccbf97-5a06-4b62-8c25-3b21753bff6e",
   "metadata": {},
   "outputs": [
    {
     "data": {
      "text/plain": [
       "(0.341344746068543, 3.789687964201238e-15)"
      ]
     },
     "execution_count": 11,
     "metadata": {},
     "output_type": "execute_result"
    }
   ],
   "source": [
    "# integrate f from zero to one:\n",
    "si.quad(f, 0, 1)"
   ]
  },
  {
   "cell_type": "code",
   "execution_count": 12,
   "id": "e2edcb3e-37f5-40a1-b92d-47956399ee62",
   "metadata": {},
   "outputs": [],
   "source": [
    "# Agrees with Schaum's outline table!!!"
   ]
  }
 ],
 "metadata": {
  "kernelspec": {
   "display_name": "Python 3",
   "language": "python",
   "name": "python3"
  },
  "language_info": {
   "codemirror_mode": {
    "name": "ipython",
    "version": 3
   },
   "file_extension": ".py",
   "mimetype": "text/x-python",
   "name": "python",
   "nbconvert_exporter": "python",
   "pygments_lexer": "ipython3",
   "version": "3.10.4"
  }
 },
 "nbformat": 4,
 "nbformat_minor": 5
}
