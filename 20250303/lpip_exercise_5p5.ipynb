{
 "cells": [
  {
   "cell_type": "code",
   "execution_count": null,
   "id": "7ef5e81a-a06b-4735-9f46-5ead5be18967",
   "metadata": {},
   "outputs": [],
   "source": [
    "# some calculations associated with \n",
    "# Exercise 5.5 of Lawrence, Probability in Physics\n",
    "# https://doi.org/10.1007/978-3-030-04544-9"
   ]
  },
  {
   "cell_type": "code",
   "execution_count": 1,
   "id": "41b966e7-d7dd-477c-8b3e-c7f20af0ddbf",
   "metadata": {},
   "outputs": [],
   "source": [
    "import numpy as np"
   ]
  },
  {
   "cell_type": "code",
   "execution_count": 1,
   "id": "03d40fee-93bc-4542-bffa-f6f993c6cb9b",
   "metadata": {},
   "outputs": [],
   "source": [
    "# binomial distribution\n",
    "n = 100; p = 0.75\n",
    "sigma = np.sqrt(n * p *(1-p))"
   ]
  },
  {
   "cell_type": "code",
   "execution_count": 7,
   "id": "387b2f7e-4c67-4f77-adf7-01cecfca49d6",
   "metadata": {},
   "outputs": [
    {
     "data": {
      "text/plain": [
       "1.2701705922171767"
      ]
     },
     "execution_count": 7,
     "metadata": {},
     "output_type": "execute_result"
    }
   ],
   "source": [
    "# compute z:\n",
    "5.5/sigma"
   ]
  },
  {
   "cell_type": "code",
   "execution_count": null,
   "id": "52ed4640-bf09-4229-89d0-306b12251384",
   "metadata": {},
   "outputs": [],
   "source": [
    "# for this z we look in Schaum's table"
   ]
  },
  {
   "cell_type": "code",
   "execution_count": 11,
   "id": "1731c0ce-e82e-4cfc-ab4d-e18857335864",
   "metadata": {},
   "outputs": [
    {
     "data": {
      "text/plain": [
       "0.898"
      ]
     },
     "execution_count": 11,
     "metadata": {},
     "output_type": "execute_result"
    }
   ],
   "source": [
    "x = 0.398 + 0.5\n",
    "x"
   ]
  },
  {
   "cell_type": "code",
   "execution_count": null,
   "id": "2591d70b-3035-4d59-b45c-1d0983e8ef97",
   "metadata": {},
   "outputs": [],
   "source": [
    "# vs. 0.898 in back of book"
   ]
  }
 ],
 "metadata": {
  "kernelspec": {
   "display_name": "Python 3",
   "language": "python",
   "name": "python3"
  },
  "language_info": {
   "codemirror_mode": {
    "name": "ipython",
    "version": 3
   },
   "file_extension": ".py",
   "mimetype": "text/x-python",
   "name": "python",
   "nbconvert_exporter": "python",
   "pygments_lexer": "ipython3",
   "version": "3.10.4"
  }
 },
 "nbformat": 4,
 "nbformat_minor": 5
}
