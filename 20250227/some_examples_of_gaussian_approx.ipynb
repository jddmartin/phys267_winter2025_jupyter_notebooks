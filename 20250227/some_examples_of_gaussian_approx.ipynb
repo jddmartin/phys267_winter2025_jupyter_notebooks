{
 "cells": [
  {
   "cell_type": "code",
   "execution_count": 1,
   "id": "042b64c2-bb5f-4903-af3b-0098a6f7d94c",
   "metadata": {},
   "outputs": [],
   "source": [
    "import numpy as np\n",
    "import scipy.stats as ss\n",
    "import scipy.optimize as so\n",
    "import math"
   ]
  },
  {
   "cell_type": "code",
   "execution_count": 13,
   "id": "3cf06b24-190f-4d33-90e5-789332909e18",
   "metadata": {},
   "outputs": [],
   "source": [
    "# Exercise 5.7 of Lawrence, Probability in Physics\n",
    "# https://doi.org/10.1007/978-3-030-04544-9"
   ]
  },
  {
   "cell_type": "code",
   "execution_count": 14,
   "id": "6b504d77-b3bc-4875-986e-7e3d2be610a6",
   "metadata": {},
   "outputs": [
    {
     "data": {
      "text/plain": [
       "170.14705313439163"
      ]
     },
     "execution_count": 14,
     "metadata": {},
     "output_type": "execute_result"
    }
   ],
   "source": [
    "1.645*np.sqrt(150)+150"
   ]
  },
  {
   "cell_type": "code",
   "execution_count": 15,
   "id": "413a12bf-6cb0-496f-81cd-c68e6ffc321f",
   "metadata": {},
   "outputs": [
    {
     "data": {
      "text/plain": [
       "0.9500150944608786"
      ]
     },
     "execution_count": 15,
     "metadata": {},
     "output_type": "execute_result"
    }
   ],
   "source": [
    "ss.norm.cdf(1.645)"
   ]
  },
  {
   "cell_type": "code",
   "execution_count": 16,
   "id": "c5fd1b71-7e62-43a4-a0e2-0b1c9a9890c5",
   "metadata": {},
   "outputs": [
    {
     "name": "stdout",
     "output_type": "stream",
     "text": [
      "z_n=1.6448536269518983\n",
      "ss.norm.cdf(z_n)=0.9500000000000439\n"
     ]
    }
   ],
   "source": [
    "# we can determine z numerically using \"root-finding\"\n",
    "def f(z): return ss.norm.cdf(z)-0.95\n",
    "z_n = so.brentq(f, 1.6, 1.7)\n",
    "print(f\"{z_n=}\")\n",
    "print(f\"{ss.norm.cdf(z_n)=}\")"
   ]
  },
  {
   "cell_type": "code",
   "execution_count": 17,
   "id": "cfb791f7-10fa-4b0d-bb16-bf730dc102f7",
   "metadata": {},
   "outputs": [
    {
     "data": {
      "text/plain": [
       "[(1.6, 0.445200708300442),\n",
       " (1.61, 0.4463010718518803),\n",
       " (1.62, 0.44738386154574794),\n",
       " (1.6300000000000001, 0.44844925150991066),\n",
       " (1.6400000000000001, 0.44949741652589625),\n",
       " (1.6500000000000001, 0.4505285319663519),\n",
       " (1.6600000000000001, 0.4515427737332772),\n",
       " (1.6700000000000002, 0.45254031819705265),\n",
       " (1.6800000000000002, 0.45352134213628004),\n",
       " (1.6900000000000002, 0.4544860226784502)]"
      ]
     },
     "execution_count": 17,
     "metadata": {},
     "output_type": "execute_result"
    }
   ],
   "source": [
    "# use cumulative proability distribution to reproduce some of Schaum's table:\n",
    "[(z, ss.norm.cdf(z)-0.5) for z in np.arange(1.6, 1.7, 0.010)]"
   ]
  },
  {
   "cell_type": "code",
   "execution_count": 18,
   "id": "113268b5-cf91-4762-8afc-476b0a26efbf",
   "metadata": {},
   "outputs": [
    {
     "name": "stdout",
     "output_type": "stream",
     "text": [
      "f_exact=1.52587890625e-05\n"
     ]
    }
   ],
   "source": [
    "# Exercise 5.4 from Lawrence Probabilty in Physics\n",
    "# https://doi.org/10.1007/978-3-030-04544-9\n",
    "n = 16; p = 0.5; s = 0\n",
    "mu = n * p;  sigma = np.sqrt(n * p * (1-p))\n",
    "f_exact = math.comb(n, s) * p**s * (1-p)**(n-s)\n",
    "print(f\"{f_exact=}\")"
   ]
  },
  {
   "cell_type": "code",
   "execution_count": 21,
   "id": "369d547a-3eb0-41c6-9065-4b6abe4e7e8c",
   "metadata": {},
   "outputs": [],
   "source": [
    "# gaussian:\n",
    "def g(i): return 1.0/np.sqrt(2.0 * np.pi) / sigma * np.exp(-0.5 * ((i-mu)/sigma)**2)"
   ]
  },
  {
   "cell_type": "code",
   "execution_count": 20,
   "id": "69f904f8-d464-4de1-8e1f-52e24e92d9f6",
   "metadata": {},
   "outputs": [
    {
     "name": "stdout",
     "output_type": "stream",
     "text": [
      "f_approx=6.691511288244268e-05\n"
     ]
    }
   ],
   "source": [
    "f_approx = g(s)\n",
    "print(f\"{f_approx=}\")"
   ]
  },
  {
   "cell_type": "code",
   "execution_count": null,
   "id": "51c1ad0d-682e-422f-a1c3-d42774b4c8a2",
   "metadata": {},
   "outputs": [],
   "source": []
  }
 ],
 "metadata": {
  "kernelspec": {
   "display_name": "Python 3",
   "language": "python",
   "name": "python3"
  },
  "language_info": {
   "codemirror_mode": {
    "name": "ipython",
    "version": 3
   },
   "file_extension": ".py",
   "mimetype": "text/x-python",
   "name": "python",
   "nbconvert_exporter": "python",
   "pygments_lexer": "ipython3",
   "version": "3.10.4"
  }
 },
 "nbformat": 4,
 "nbformat_minor": 5
}
