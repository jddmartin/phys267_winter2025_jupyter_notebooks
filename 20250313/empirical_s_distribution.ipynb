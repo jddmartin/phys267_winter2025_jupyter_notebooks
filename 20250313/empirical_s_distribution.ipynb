{
 "cells": [
  {
   "cell_type": "code",
   "execution_count": 1,
   "id": "16ac5450-ad74-4e4a-9ec9-51dac5832699",
   "metadata": {},
   "outputs": [],
   "source": [
    "import numpy as np\n",
    "import scipy.stats as ss\n",
    "import matplotlib.pyplot as plt"
   ]
  },
  {
   "cell_type": "code",
   "execution_count": 2,
   "id": "e4155fef-39c0-4b69-a944-6f797a1dd70a",
   "metadata": {},
   "outputs": [],
   "source": [
    "N = 10\n",
    "scale = 10"
   ]
  },
  {
   "cell_type": "code",
   "execution_count": 3,
   "id": "53e23b90-2e52-4f76-b8d9-a0f74424168a",
   "metadata": {},
   "outputs": [],
   "source": [
    "def rv():\n",
    "    samples = ss.norm.rvs(size=N, scale=scale)\n",
    "    mean_est = sum(samples) / N\n",
    "    return mean_est / (scale / np.sqrt(N))"
   ]
  },
  {
   "cell_type": "code",
   "execution_count": 4,
   "id": "d23366e2-09c1-4be7-9ecb-d96ae612172e",
   "metadata": {},
   "outputs": [],
   "source": [
    "def rs(n_samp, n):\n",
    "    return [sum([ss.norm.rvs() for _ in range(n)])  for _ in range(n_samp)]"
   ]
  },
  {
   "cell_type": "code",
   "execution_count": 5,
   "id": "1ae9dfbf-a200-45ff-a9c1-599f4e63aa79",
   "metadata": {},
   "outputs": [],
   "source": [
    "nsamp_of_rv = 10000\n",
    "rvs = [rv() for _ in range(nsamp_of_rv)]"
   ]
  },
  {
   "cell_type": "code",
   "execution_count": 6,
   "id": "6b563e27-ad55-4a48-b188-2e16f571b293",
   "metadata": {},
   "outputs": [
    {
     "data": {
      "text/plain": [
       "<matplotlib.legend.Legend at 0x7f5d8e778d60>"
      ]
     },
     "execution_count": 6,
     "metadata": {},
     "output_type": "execute_result"
    },
    {
     "data": {
      "image/png": "[encoded data removed]",
      "text/plain": [
       "<Figure size 432x288 with 1 Axes>"
      ]
     },
     "metadata": {
      "needs_background": "light"
     },
     "output_type": "display_data"
    }
   ],
   "source": [
    "plt.hist(rvs, bins=100, alpha=0.3, density=True, label=f\"${N=}$\");\n",
    "xs = np.linspace(-10, 10, 1000)\n",
    "plt.plot(xs, 1.0/np.sqrt(2*np.pi) * np.exp(-0.5 * xs**2))\n",
    "plt.legend()"
   ]
  },
  {
   "cell_type": "code",
   "execution_count": null,
   "id": "368026ab-ad4a-4b75-973a-3c1008ce363b",
   "metadata": {},
   "outputs": [],
   "source": []
  }
 ],
 "metadata": {
  "kernelspec": {
   "display_name": "Python 3 (ipykernel)",
   "language": "python",
   "name": "python3"
  },
  "language_info": {
   "codemirror_mode": {
    "name": "ipython",
    "version": 3
   },
   "file_extension": ".py",
   "mimetype": "text/x-python",
   "name": "python",
   "nbconvert_exporter": "python",
   "pygments_lexer": "ipython3",
   "version": "3.10.16"
  }
 },
 "nbformat": 4,
 "nbformat_minor": 5
}
