{
 "cells": [
  {
   "cell_type": "code",
   "execution_count": 1,
   "id": "16ac5450-ad74-4e4a-9ec9-51dac5832699",
   "metadata": {},
   "outputs": [],
   "source": [
    "import numpy as np\n",
    "import scipy.stats as ss\n",
    "import matplotlib.pyplot as plt"
   ]
  },
  {
   "cell_type": "code",
   "execution_count": 2,
   "id": "50105723-8d15-410b-b251-9e13d4ab2329",
   "metadata": {},
   "outputs": [],
   "source": [
    "N = 10  # number of experimental samples "
   ]
  },
  {
   "cell_type": "code",
   "execution_count": 3,
   "id": "0a5ccb96-3d7c-4268-935c-f40d24684b75",
   "metadata": {},
   "outputs": [],
   "source": [
    "def rv():\n",
    "    \"\"\"Generate random variate\"\"\"\n",
    "    samples = ss.norm.rvs(size=N)\n",
    "    mean_est = sum(samples)/N\n",
    "    sigma_parent_est = np.sqrt(sum((samples-mean_est)**2)/(N-1))\n",
    "    return mean_est / (sigma_parent_est / np.sqrt(N))"
   ]
  },
  {
   "cell_type": "code",
   "execution_count": 4,
   "id": "1ae9dfbf-a200-45ff-a9c1-599f4e63aa79",
   "metadata": {},
   "outputs": [],
   "source": [
    "nsamp_of_rv = 10000\n",
    "rvs = [rv() for _ in range(nsamp_of_rv)]"
   ]
  },
  {
   "cell_type": "code",
   "execution_count": 5,
   "id": "6b563e27-ad55-4a48-b188-2e16f571b293",
   "metadata": {},
   "outputs": [
    {
     "data": {
      "image/png": "[encoded data removed]",
      "text/plain": [
       "<Figure size 432x288 with 1 Axes>"
      ]
     },
     "metadata": {
      "needs_background": "light"
     },
     "output_type": "display_data"
    }
   ],
   "source": [
    "x_max = 10  # plots will range from -x_max to x_max\n",
    "plt.hist(rvs, bins=np.linspace(-x_max, x_max, 500), alpha=0.3, density=True, label=f\"${N=}$\");\n",
    "ax = plt.gca()\n",
    "xs = np.linspace(-x_max, x_max, 1000)\n",
    "# add theoretical t-distribution:\n",
    "ax.plot(xs, ss.t.pdf(xs, df=N-1),label=f\"t-distribution, $DOF={N-1}$\", alpha=0.4)\n",
    "# add normal distribution:\n",
    "ax.plot(xs, 1.0 / np.sqrt(2 * np.pi) * np.exp(-0.5 * xs**2), label=\"$N(0,1)$\", alpha=0.4, linestyle=\"dashed\", color=\"black\")\n",
    "ax.legend()\n",
    "ax = plt.gca()\n",
    "ax.set_xlim([-x_max, x_max]);\n",
    "ax.set_xlabel(\"$t$\");\n",
    "ax.set_ylabel(\"$f(t)$\");"
   ]
  },
  {
   "cell_type": "code",
   "execution_count": null,
   "id": "3355031f-6c83-48a0-a480-822f414879df",
   "metadata": {},
   "outputs": [],
   "source": []
  },
  {
   "cell_type": "code",
   "execution_count": null,
   "id": "7f69e8c2-debb-48ee-81b4-d8c10dd144a2",
   "metadata": {},
   "outputs": [],
   "source": []
  },
  {
   "cell_type": "code",
   "execution_count": null,
   "id": "8ff4f52d-2fa7-4c79-8bdc-cbc1d74b6c2f",
   "metadata": {},
   "outputs": [],
   "source": []
  },
  {
   "cell_type": "code",
   "execution_count": null,
   "id": "1aca0715-c484-4d20-8951-9cd43716fcce",
   "metadata": {},
   "outputs": [],
   "source": []
  },
  {
   "cell_type": "code",
   "execution_count": null,
   "id": "7fba93da-cb03-4b60-9da4-860d593a06d3",
   "metadata": {},
   "outputs": [],
   "source": []
  }
 ],
 "metadata": {
  "kernelspec": {
   "display_name": "Python 3 (ipykernel)",
   "language": "python",
   "name": "python3"
  },
  "language_info": {
   "codemirror_mode": {
    "name": "ipython",
    "version": 3
   },
   "file_extension": ".py",
   "mimetype": "text/x-python",
   "name": "python",
   "nbconvert_exporter": "python",
   "pygments_lexer": "ipython3",
   "version": "3.10.16"
  }
 },
 "nbformat": 4,
 "nbformat_minor": 5
}
