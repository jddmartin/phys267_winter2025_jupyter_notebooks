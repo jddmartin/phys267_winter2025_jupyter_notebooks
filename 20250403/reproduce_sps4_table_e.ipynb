{
 "cells": [
  {
   "cell_type": "code",
   "execution_count": 11,
   "id": "3782e012-6ec1-4ec4-a6f3-ce98b1737a18",
   "metadata": {},
   "outputs": [],
   "source": [
    "# how to reproduce Table E of SPS4"
   ]
  },
  {
   "cell_type": "code",
   "execution_count": 11,
   "id": "9b3947ea-5ad5-4397-869f-cba246b392d2",
   "metadata": {},
   "outputs": [],
   "source": [
    "import scipy.stats as ss\n",
    "import matplotlib.pyplot as plt\n",
    "import numpy as np\n",
    "import scipy.optimize as so"
   ]
  },
  {
   "cell_type": "code",
   "execution_count": 6,
   "id": "ddbc41c3-acfd-404d-b75b-602ce3ca8acf",
   "metadata": {},
   "outputs": [
    {
     "data": {
      "text/plain": [
       "0.0050073837243031685"
      ]
     },
     "execution_count": 6,
     "metadata": {},
     "output_type": "execute_result"
    }
   ],
   "source": [
    "ss.chi2.cdf(0.412, df=5)"
   ]
  },
  {
   "cell_type": "code",
   "execution_count": 15,
   "id": "3627c21d-48cf-4ee1-8ff7-c282a72d1cb4",
   "metadata": {},
   "outputs": [],
   "source": [
    "def f(x): return ss.chi2.cdf(x, df=10) - 0.9"
   ]
  },
  {
   "cell_type": "code",
   "execution_count": 16,
   "id": "72281320-ae72-407a-be03-8352515c747e",
   "metadata": {},
   "outputs": [
    {
     "data": {
      "text/plain": [
       "15.98717917210526"
      ]
     },
     "execution_count": 16,
     "metadata": {},
     "output_type": "execute_result"
    }
   ],
   "source": [
    "so.brentq(f, 0, 20)"
   ]
  },
  {
   "cell_type": "code",
   "execution_count": null,
   "id": "a58818b1-bd9f-4f23-b9e3-d88cf7c55ea1",
   "metadata": {},
   "outputs": [],
   "source": []
  }
 ],
 "metadata": {
  "kernelspec": {
   "display_name": "Python 3",
   "language": "python",
   "name": "python3"
  },
  "language_info": {
   "codemirror_mode": {
    "name": "ipython",
    "version": 3
   },
   "file_extension": ".py",
   "mimetype": "text/x-python",
   "name": "python",
   "nbconvert_exporter": "python",
   "pygments_lexer": "ipython3",
   "version": "3.10.4"
  }
 },
 "nbformat": 4,
 "nbformat_minor": 5
}
