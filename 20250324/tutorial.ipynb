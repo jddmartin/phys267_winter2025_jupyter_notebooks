{
 "cells": [
  {
   "cell_type": "code",
   "execution_count": 15,
   "id": "1ca77b2b-e64f-40bf-bdb5-4f35246b04b1",
   "metadata": {},
   "outputs": [],
   "source": [
    "import scipy.stats as ss\n",
    "import scipy.optimize as so"
   ]
  },
  {
   "cell_type": "code",
   "execution_count": 16,
   "id": "0a87cf98-5468-4870-8894-6035b1cea9cb",
   "metadata": {},
   "outputs": [],
   "source": [
    "def area(z):\n",
    "    return ss.norm.cdf(z)-ss.norm.cdf(-z)\n",
    "    "
   ]
  },
  {
   "cell_type": "code",
   "execution_count": 17,
   "id": "bdf20f41-1572-4c38-a04c-ef70e9596dc6",
   "metadata": {},
   "outputs": [
    {
     "data": {
      "text/plain": [
       "0.6826894921370859"
      ]
     },
     "execution_count": 17,
     "metadata": {},
     "output_type": "execute_result"
    }
   ],
   "source": [
    "area(1)"
   ]
  },
  {
   "cell_type": "code",
   "execution_count": 18,
   "id": "3308f2e4-30a8-431d-a0af-218dd2bd33c7",
   "metadata": {},
   "outputs": [],
   "source": [
    "def area_offset(z):\n",
    "    return area(z) - 0.85"
   ]
  },
  {
   "cell_type": "code",
   "execution_count": 19,
   "id": "88819b68-a87b-4a05-ab2b-9188d1d91456",
   "metadata": {},
   "outputs": [
    {
     "data": {
      "text/plain": [
       "1.4395314709384528"
      ]
     },
     "execution_count": 19,
     "metadata": {},
     "output_type": "execute_result"
    }
   ],
   "source": [
    "so.brentq(area_offset, 0.1, 10)"
   ]
  },
  {
   "cell_type": "code",
   "execution_count": null,
   "id": "54c3b19a-c0e5-4c26-9800-bbc36f1089d5",
   "metadata": {},
   "outputs": [],
   "source": []
  }
 ],
 "metadata": {
  "kernelspec": {
   "display_name": "Python 3",
   "language": "python",
   "name": "python3"
  },
  "language_info": {
   "codemirror_mode": {
    "name": "ipython",
    "version": 3
   },
   "file_extension": ".py",
   "mimetype": "text/x-python",
   "name": "python",
   "nbconvert_exporter": "python",
   "pygments_lexer": "ipython3",
   "version": "3.10.4"
  }
 },
 "nbformat": 4,
 "nbformat_minor": 5
}
