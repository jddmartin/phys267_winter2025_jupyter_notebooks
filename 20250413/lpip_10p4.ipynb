{
 "cells": [
  {
   "cell_type": "code",
   "execution_count": 6,
   "id": "830cff6f-5c26-4a5a-b569-602723ed4de8",
   "metadata": {},
   "outputs": [],
   "source": [
    "# lpip 10.4\n",
    "import numpy as np\n",
    "import pandas as pd\n",
    "import matplotlib.pyplot as plt\n",
    "import scipy.stats as ss\n",
    "np.set_printoptions(legacy='1.25')"
   ]
  },
  {
   "cell_type": "code",
   "execution_count": 12,
   "id": "bf503a93-1eb2-481e-abb0-e9aa32d7d84b",
   "metadata": {},
   "outputs": [],
   "source": [
    "df = pd.read_csv(\"lawrence_shortdoi_pgd3_problem_9p2.csv\")\n",
    "mm = df[\"Maths mark\"].to_numpy()\n",
    "pm = df[\"Physics mark\"].to_numpy()"
   ]
  },
  {
   "cell_type": "code",
   "execution_count": 20,
   "id": "04df44e2-b639-467f-baea-7df23c74d4da",
   "metadata": {},
   "outputs": [],
   "source": [
    "def fit_line_no_sigmas(xs, ys, sig_y=None):\n",
    "    assert len(xs) == len(ys)\n",
    "    n = len(xs)\n",
    "    m = ((n * sum(xs * ys) - sum(xs) * sum(ys))\n",
    "        / (n * sum(xs*xs) - sum(xs)**2))\n",
    "    b =  ((sum(xs * xs) * sum(ys) - sum(xs) * sum(xs * ys))\n",
    "        / (n * sum(xs*xs) - sum(xs)**2))\n",
    "\n",
    "    if sig_y is None:\n",
    "        sigma_y = np.sqrt(sum((xs * m + b - ys)**2) / (n - 2))\n",
    "    else:\n",
    "        sigma_y = sig_y\n",
    "\n",
    "    sigma_m = np.sqrt(sigma_y**2 / n / (np.mean(xs*xs) - np.mean(xs)**2))\n",
    "\n",
    "    sigma_b = np.sqrt(sigma_y**2 * np.mean(xs*xs) / n /\n",
    "        (np.mean(xs*xs) - np.mean(xs)**2))\n",
    "\n",
    "    cov_m_b = - (sigma_y**2 * np.mean(xs) / n /\n",
    "        (np.mean(xs*xs) - np.mean(xs)**2))\n",
    "\n",
    "    x_intercept = - b / m\n",
    "\n",
    "    dfdb = -1/m\n",
    "    dfdm = b/m**2\n",
    "\n",
    "    sigma_x_intercept = np.sqrt(\n",
    "        dfdb**2 * sigma_b**2 + dfdm**2 * sigma_m**2\n",
    "        + 2 * cov_m_b * dfdb * dfdm\n",
    "        )\n",
    "\n",
    "    if not (sig_y is None):\n",
    "        nu = n - 2\n",
    "        chi_2 = 1 / sig_y**2 * sum((ys - (m * xs + b))**2)\n",
    "        p = 1.0 - ss.chi2.cdf(chi_2, df=nu)\n",
    "    \n",
    "    return {\"n\":n, \"m\":m, \"b\":b, \"sigma_y\": sigma_y,\n",
    "            \"sigma_m\":sigma_m, \"sigma_b\":sigma_b, \"cov_m_b\":cov_m_b,\n",
    "            \"x_intercept\": x_intercept,\n",
    "            \"sigma_x_intercept\":sigma_x_intercept,\n",
    "            \"chi_2\":chi_2, \"p\":p\n",
    "           }\n"
   ]
  },
  {
   "cell_type": "code",
   "execution_count": 24,
   "id": "cfc2ef39-7269-42e2-9941-9cc98ee9af37",
   "metadata": {},
   "outputs": [
    {
     "name": "stdout",
     "output_type": "stream",
     "text": [
      "sig_y=5 r['chi_2']=10.032469813391879 r['p']=0.3478629972696228\n",
      "sig_y=3.5 r['chi_2']=20.47442819059567 r['p']=0.015199938475071062\n"
     ]
    }
   ],
   "source": [
    "for sig_y in [5, 3.5]:\n",
    "    r = fit_line_no_sigmas(mm, pm, sig_y=sig_y)\n",
    "    print(f\"{sig_y=} {r['chi_2']=} {r['p']=}\")"
   ]
  },
  {
   "cell_type": "code",
   "execution_count": 26,
   "id": "02a1e6d3-dfd6-4c3c-9922-43eaaae74882",
   "metadata": {},
   "outputs": [
    {
     "data": {
      "text/plain": [
       "0.18387266625042342"
      ]
     },
     "execution_count": 26,
     "metadata": {},
     "output_type": "execute_result"
    }
   ],
   "source": [
    "p"
   ]
  },
  {
   "cell_type": "code",
   "execution_count": null,
   "id": "0f782d8a-0551-40b7-adc9-67aee492e316",
   "metadata": {},
   "outputs": [],
   "source": []
  }
 ],
 "metadata": {
  "kernelspec": {
   "display_name": "Python 3 (ipykernel)",
   "language": "python",
   "name": "python3"
  },
  "language_info": {
   "codemirror_mode": {
    "name": "ipython",
    "version": 3
   },
   "file_extension": ".py",
   "mimetype": "text/x-python",
   "name": "python",
   "nbconvert_exporter": "python",
   "pygments_lexer": "ipython3",
   "version": "3.10.16"
  }
 },
 "nbformat": 4,
 "nbformat_minor": 5
}
