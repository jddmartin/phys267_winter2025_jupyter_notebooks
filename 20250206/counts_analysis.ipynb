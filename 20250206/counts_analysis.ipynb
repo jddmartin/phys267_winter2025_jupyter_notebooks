{
 "cells": [
  {
   "cell_type": "code",
   "execution_count": 1,
   "id": "c4de1342-bb81-40de-8e19-5d77950eaec5",
   "metadata": {},
   "outputs": [],
   "source": [
    "import pandas as pd\n",
    "import numpy as np\n",
    "import matplotlib.pyplot as plt\n",
    "import math"
   ]
  },
  {
   "cell_type": "code",
   "execution_count": 2,
   "id": "ef481eee-4f46-4841-b9bd-d94255437453",
   "metadata": {},
   "outputs": [],
   "source": [
    "# read Geiger counter data in, skipping bad first few rows, and specifying column labels\n",
    "# data is the count number, and time of count in ms\n",
    "df = pd.read_csv(\"counts.csv\",skiprows=29,names=[\"count\", \"time_ms\"])"
   ]
  },
  {
   "cell_type": "code",
   "execution_count": 3,
   "id": "48d8fb9a-e7d6-42fe-a2de-4ffb92e131fa",
   "metadata": {},
   "outputs": [],
   "source": [
    "t_s = df[\"time_ms\"].to_numpy()/1000\n",
    "cs = df[\"count\"].to_numpy()\n",
    "max_t_s = t_s[-1]"
   ]
  },
  {
   "cell_type": "code",
   "execution_count": 4,
   "id": "02c9f907-3ff8-4d37-a5e1-41c865ab6932",
   "metadata": {},
   "outputs": [
    {
     "name": "stdout",
     "output_type": "stream",
     "text": [
      "R=np.float64(1.8737818352412368)\n"
     ]
    }
   ],
   "source": [
    "# estimate the counting rate:\n",
    "R = cs[-1] / t_s[-1]\n",
    "print(f\"{R=}\")"
   ]
  },
  {
   "cell_type": "code",
   "execution_count": 5,
   "id": "dc8a9e80-47e3-46ac-9f44-d5c1be9b912a",
   "metadata": {},
   "outputs": [],
   "source": [
    "T = 0.5  # time interval for counting, experiment with changing this!\n",
    "mu = R * T  # expected mean\n",
    "\n",
    "# break up times into regions in which to figure out counts\n",
    "bins = np.arange(0,1000,T)\n",
    "hist, bin_edges = np.histogram(t_s, bins=bins)\n",
    "\n",
    "# now we have the counts for each of the time intervals\n",
    "# histogram to check against Poisson distribution\n",
    "cbins = np.arange(0,11,1)\n",
    "\n",
    "f_exp, _ = np.histogram(hist, bins=cbins, density=True)\n",
    "f_theory = [mu**i/math.factorial(i) * np.exp(-mu) for i in cbins[:-1]]"
   ]
  },
  {
   "cell_type": "code",
   "execution_count": 6,
   "id": "8f559eb5-ac0c-486b-a641-1d37f8b84c10",
   "metadata": {},
   "outputs": [
    {
     "data": {
      "image/png": "[encoded data removed]",
      "text/plain": [
       "<Figure size 432x288 with 1 Axes>"
      ]
     },
     "metadata": {
      "needs_background": "light"
     },
     "output_type": "display_data"
    }
   ],
   "source": [
    "plt.style.use(\"phys267_jupyter_overhead.mplstyle\")\n",
    "fig, ax = plt.subplots()\n",
    "ax.bar(cbins[:-1], f_exp, alpha=0.2, label=\"experiment\")\n",
    "ax.bar(cbins[:-1], f_theory, alpha=0.1, color=\"red\", label=(\"theory, \" +  f\"{mu = :.3g}\"))\n",
    "ax = plt.gca()\n",
    "ax.set_xlabel(\"counts\")\n",
    "ax.set_ylabel(\"probability\")\n",
    "ax.legend()\n",
    "fig.tight_layout()\n",
    "fig.savefig(\"counts_analysis_generated.pdf\")"
   ]
  },
  {
   "cell_type": "code",
   "execution_count": null,
   "id": "490b540e-492e-478b-b2e4-68412581e45a",
   "metadata": {},
   "outputs": [],
   "source": []
  }
 ],
 "metadata": {
  "kernelspec": {
   "display_name": "Python 3 (ipykernel)",
   "language": "python",
   "name": "python3"
  },
  "language_info": {
   "codemirror_mode": {
    "name": "ipython",
    "version": 3
   },
   "file_extension": ".py",
   "mimetype": "text/x-python",
   "name": "python",
   "nbconvert_exporter": "python",
   "pygments_lexer": "ipython3",
   "version": "3.10.16"
  }
 },
 "nbformat": 4,
 "nbformat_minor": 5
}
